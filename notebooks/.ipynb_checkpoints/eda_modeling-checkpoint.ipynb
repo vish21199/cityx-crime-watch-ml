{
 "cells": [
  {
   "cell_type": "code",
   "execution_count": null,
   "id": "b8ee13cd-773d-49b1-b685-2dc99a292bb1",
   "metadata": {},
   "outputs": [],
   "source": [
    "import pandas as pd\n",
    "df = pd.read_csv(r\"C:\\Users\\rachn\\CityX_Crime_Watch\\data\\crime_data.csv\")\n",
    "# See first few rows\n",
    "df.head"
   ]
  },
  {
   "cell_type": "code",
   "execution_count": null,
   "id": "aca86cc3-fd2e-4a68-8824-82bfd7593d4e",
   "metadata": {},
   "outputs": [],
   "source": [
    "# Convert to datetime\n",
    "df['Dates'] = pd.to_datetime(df['Dates'])\n",
    "\n",
    "# Extract parts of date\n",
    "df['Hour'] = df['Dates'].dt.hour\n",
    "df['Day'] = df['Dates'].dt.day_name()\n",
    "df['Month'] = df['Dates'].dt.month\n",
    "df['Year'] = df['Dates'].dt.year\n"
   ]
  },
  {
   "cell_type": "code",
   "execution_count": null,
   "id": "a2213c53-de32-4f1a-a66e-d8ccf9a3d1d8",
   "metadata": {},
   "outputs": [],
   "source": [
    "import matplotlib.pyplot as plt\n",
    "import seaborn as sns\n",
    "\n",
    "plt.figure(figsize=(10,5))\n",
    "sns.countplot(data=df, x='Day', order=['Monday','Tuesday','Wednesday','Thursday','Friday','Saturday','Sunday'])\n",
    "plt.title(\"Crimes per Day\")\n",
    "plt.xticks(rotation=45)\n",
    "plt.show()\n"
   ]
  },
  {
   "cell_type": "code",
   "execution_count": null,
   "id": "7278f418-dd35-4977-b22c-5c0713028405",
   "metadata": {},
   "outputs": [],
   "source": [
    "df['Category'].value_counts().head(10).plot(kind='bar', title='Top Crime Categories', figsize=(10,5))\n",
    "plt.ylabel(\"Count\")\n",
    "plt.show()\n"
   ]
  },
  {
   "cell_type": "code",
   "execution_count": null,
   "id": "29724d23-36f4-4aea-ba44-bd1d6b7bef97",
   "metadata": {},
   "outputs": [],
   "source": [
    "from sklearn.feature_extraction.text import TfidfVectorizer\n",
    "from sklearn.model_selection import train_test_split\n",
    "from xgboost import XGBClassifier\n",
    "from sklearn.metrics import accuracy_score\n",
    "\n",
    "# Vectorize Descriptions\n",
    "vectorizer = TfidfVectorizer()\n",
    "X = vectorizer.fit_transform(df['Descript'].fillna(''))\n",
    "\n",
    "# Target variable\n",
    "y = df['Category']\n",
    "\n",
    "# Train/Test split\n",
    "X_train, X_test, y_train, y_test = train_test_split(X, y, test_size=0.2)\n",
    "\n",
    "# Model\n",
    "model = XGBClassifier(use_label_encoder=False, eval_metric='mlogloss')\n",
    "model.fit(X_train, y_train)\n",
    "\n",
    "# Prediction\n",
    "y_pred = model.predict(X_test)\n",
    "print(\"Accuracy:\", accuracy_score(y_test, y_pred))\n"
   ]
  },
  {
   "cell_type": "code",
   "execution_count": null,
   "id": "77986f5e-a4b9-4413-9a34-c56d9291b134",
   "metadata": {},
   "outputs": [],
   "source": [
    "def get_severity(cat):\n",
    "    if cat in ['NON-CRIMINAL', 'SUSPICIOUS OCCURRENCE', 'MISSING PERSON', 'RUNAWAY', 'RECOVERED VEHICLE']:\n",
    "        return 1\n",
    "    elif cat in ['WARRANTS', 'OTHER OFFENSES', 'VANDALISM', 'TRESPASS', 'DISORDERLY CONDUCT', 'BAD CHECKS']:\n",
    "        return 2\n",
    "    elif cat in ['LARCENY/THEFT', 'VEHICLE THEFT', 'FORGERY/COUNTERFEITING', 'DRUG/NARCOTIC', 'STOLEN PROPERTY', 'FRAUD', 'BRIBERY', 'EMBEZZLEMENT']:\n",
    "        return 3\n",
    "    elif cat in ['ROBBERY', 'WEAPON LAWS', 'BURGLARY', 'EXTORTION']:\n",
    "        return 4\n",
    "    elif cat in ['KIDNAPPING', 'ARSON']:\n",
    "        return 5\n",
    "    return 0\n",
    "\n",
    "df['Severity'] = df['Category'].apply(get_severity)\n",
    "\n",
    "# Show sample\n",
    "df[['Category', 'Descript', 'Severity']].head(10)\n"
   ]
  },
  {
   "cell_type": "code",
   "execution_count": null,
   "id": "821696dc-5076-4072-b680-41254d81459b",
   "metadata": {},
   "outputs": [],
   "source": [
    "from sklearn.preprocessing import LabelEncoder\n",
    "\n",
    "# Create label encoder\n",
    "label_encoder = LabelEncoder()\n",
    "\n",
    "# Fit and transform y to numeric\n",
    "y = label_encoder.fit_transform(df['Category'])\n",
    "\n",
    "# Save the label encoder for decoding later\n",
    "import joblib\n",
    "joblib.dump(label_encoder, '../app/label_encoder.pkl')\n"
   ]
  },
  {
   "cell_type": "code",
   "execution_count": null,
   "id": "72b47ca1-21f3-4a09-add8-d1c82d7c4e1e",
   "metadata": {},
   "outputs": [],
   "source": [
    "from sklearn.preprocessing import LabelEncoder\n",
    "\n",
    "# Create label encoder\n",
    "label_encoder = LabelEncoder()\n",
    "\n",
    "# Fit and transform y to numeric\n",
    "y = label_encoder.fit_transform(df['Category'])\n",
    "\n",
    "# Save the label encoder for decoding later\n",
    "import joblib\n",
    "joblib.dump(label_encoder, 'C:\\Users\\rachn\\CityX_Crime_Watch\\app\\label_encoder.pkl')\n"
   ]
  },
  {
   "cell_type": "code",
   "execution_count": null,
   "id": "379f7fa3-b0bb-48ca-b2c6-136ab3adf4ef",
   "metadata": {},
   "outputs": [],
   "source": [
    "from sklearn.preprocessing import LabelEncoder\n",
    "\n",
    "# Create label encoder\n",
    "label_encoder = LabelEncoder()\n",
    "\n",
    "# Fit and transform y to numeric\n",
    "y = label_encoder.fit_transform(df['Category'])\n",
    "\n",
    "# Save the label encoder for decoding later\n",
    "import joblib\n",
    "joblib.dump(label_encoder, 'C:/Users/rachn/CityX_Crime_Watch/app/label_encoder.pkl')"
   ]
  },
  {
   "cell_type": "code",
   "execution_count": null,
   "id": "1aec0e45-276d-4f5b-a0a4-eb47b1a8f766",
   "metadata": {},
   "outputs": [],
   "source": [
    "X_train, X_test, y_train, y_test = train_test_split(X, y, test_size=0.2)\n",
    "\n",
    "model = XGBClassifier(use_label_encoder=False, eval_metric='mlogloss')\n",
    "model.fit(X_train, y_train)\n",
    "\n",
    "y_pred = model.predict(X_test)\n",
    "\n",
    "# Decode predictions back to labels (optional for display)\n",
    "decoded_preds = label_encoder.inverse_transform(y_pred)\n",
    "\n",
    "from sklearn.metrics import accuracy_score\n",
    "print(\"Accuracy:\", accuracy_score(y_test, y_pred))"
   ]
  },
  {
   "cell_type": "code",
   "execution_count": null,
   "id": "31ea7d62-a722-4509-a732-1fa6050cd102",
   "metadata": {},
   "outputs": [],
   "source": [
    "def get_severity(cat):\n",
    "    if cat in ['NON-CRIMINAL', 'SUSPICIOUS OCCURRENCE', 'MISSING PERSON', 'RUNAWAY', 'RECOVERED VEHICLE']:\n",
    "        return 1\n",
    "    elif cat in ['WARRANTS', 'OTHER OFFENSES', 'VANDALISM', 'TRESPASS', 'DISORDERLY CONDUCT', 'BAD CHECKS']:\n",
    "        return 2\n",
    "    elif cat in ['LARCENY/THEFT', 'VEHICLE THEFT', 'FORGERY/COUNTERFEITING', 'DRUG/NARCOTIC', 'STOLEN PROPERTY', 'FRAUD', 'BRIBERY', 'EMBEZZLEMENT']:\n",
    "        return 3\n",
    "    elif cat in ['ROBBERY', 'WEAPON LAWS', 'BURGLARY', 'EXTORTION']:\n",
    "        return 4\n",
    "    elif cat in ['KIDNAPPING', 'ARSON']:\n",
    "        return 5\n",
    "    return 0\n",
    "\n",
    "df['Severity'] = df['Category'].apply(get_severity)\n",
    "\n",
    "# Show sample\n",
    "df[['Category', 'Descript', 'Severity']].head(10)\n",
    "\n"
   ]
  },
  {
   "cell_type": "code",
   "execution_count": null,
   "id": "cc4ec637-36b9-4b36-a9e8-695dd57d0bdf",
   "metadata": {},
   "outputs": [],
   "source": [
    "import joblib\n",
    "import os\n",
    "\n",
    "# Create app folder if not exists\n",
    "os.makedirs(\"C:/Users/rachn/CityX_Crime_Watch/app/\", exist_ok=True)\n",
    "\n",
    "# Save your trained model, vectorizer, and label encoder\n",
    "joblib.dump(model, 'C:/Users/rachn/CityX_Crime_Watch/app/model.pkl')\n",
    "joblib.dump(vectorizer, 'C:/Users/rachn/CityX_Crime_Watch/app/vectorizer.pkl')\n",
    "joblib.dump(label_encoder, 'C:/Users/rachn/CityX_Crime_Watch/app/label_encoder.pkl')\n"
   ]
  },
  {
   "cell_type": "code",
   "execution_count": null,
   "id": "44123f11-7e19-472d-8445-ba91a9b8aae3",
   "metadata": {},
   "outputs": [],
   "source": [
    "import fitz  # PyMuPDF\n",
    "\n",
    "def extract_text_from_pdf(uploaded_file):\n",
    "    doc = fitz.open(stream=uploaded_file.read(), filetype=\"pdf\")\n",
    "    text = \"\"\n",
    "    for page in doc:\n",
    "        text += page.get_text()\n",
    "    return text\n"
   ]
  },
  {
   "cell_type": "code",
   "execution_count": null,
   "id": "cce6d9f0-52e4-4be4-b004-cec23a19dffa",
   "metadata": {},
   "outputs": [],
   "source": [
    "import streamlit as st\n",
    "import pandas as pd\n",
    "import joblib\n",
    "from pdf_utils import extract_text_from_pdf\n",
    "import folium\n",
    "from streamlit_folium import st_folium\n",
    "\n",
    "# Load files\n",
    "model = joblib.load(\"model.pkl\")\n",
    "vectorizer = joblib.load(\"vectorizer.pkl\")\n",
    "label_encoder = joblib.load(\"label_encoder.pkl\")\n",
    "\n",
    "# Load dataset\n",
    "df = pd.read_csv(\"data/crime_data.csv\")\n",
    "\n",
    "st.title(\"🚓 CityX Crime Watch Dashboard\")\n",
    "\n",
    "# PDF upload\n",
    "uploaded_file = st.file_uploader(\"📄 Upload Police Report\", type=\"pdf\")\n",
    "\n",
    "if uploaded_file:\n",
    "    text = extract_text_from_pdf(uploaded_file)\n",
    "    st.subheader(\"Extracted Text\")\n",
    "    st.write(text)\n",
    "\n",
    "    # Prediction\n",
    "    X_input = vectorizer.transform([text])\n",
    "    pred = model.predict(X_input)[0]\n",
    "    crime_category = label_encoder.inverse_transform([pred])[0]\n",
    "\n",
    "    def get_severity(cat):\n",
    "        if cat in ['NON-CRIMINAL', 'SUSPICIOUS OCCURRENCE', 'MISSING PERSON', 'RUNAWAY', 'RECOVERED VEHICLE']:\n",
    "            return 1\n",
    "        elif cat in ['WARRANTS', 'OTHER OFFENSES', 'VANDALISM', 'TRESPASS', 'DISORDERLY CONDUCT', 'BAD CHECKS']:\n",
    "            return 2\n",
    "        elif cat in ['LARCENY/THEFT', 'VEHICLE THEFT', 'FORGERY/COUNTERFEITING', 'DRUG/NARCOTIC', 'STOLEN PROPERTY', 'FRAUD', 'BRIBERY', 'EMBEZZLEMENT']:\n",
    "            return 3\n",
    "        elif cat in ['ROBBERY', 'WEAPON LAWS', 'BURGLARY', 'EXTORTION']:\n",
    "            return 4\n",
    "        elif cat in ['KIDNAPPING', 'ARSON']:\n",
    "            return 5\n",
    "        return 0\n",
    "\n",
    "    severity = get_severity(crime_category)\n",
    "\n",
    "    st.success(f\"Predicted Crime Category: {crime_category}\")\n",
    "    st.warning(f\"Severity Level: {severity}\")\n",
    "\n",
    "# Crime map\n",
    "st.subheader(\"📍 Crime Map\")\n",
    "m = folium.Map(location=[df['Y'].mean(), df['X'].mean()], zoom_start=12)\n",
    "for _, row in df.iterrows():\n",
    "    folium.CircleMarker([row['Y'], row['X']], radius=2, color='red').add_to(m)\n",
    "st_data = st_folium(m, width=700)\n"
   ]
  },
  {
   "cell_type": "code",
   "execution_count": null,
   "id": "72cfbb14-b251-4db4-b7ab-4aeb21cfd609",
   "metadata": {},
   "outputs": [],
   "source": [
    "from pdf_utils import extract_text_from_pdf\n"
   ]
  },
  {
   "cell_type": "code",
   "execution_count": null,
   "id": "673eb174-56a0-4af8-9883-783ceb8846d0",
   "metadata": {},
   "outputs": [],
   "source": [
    "import sys\n",
    "sys.path.append('C:/Users/rachn/CityX_Crime_Watch/app')\n",
    "\n",
    "from pdf_utils import extract_text_from_pdf\n"
   ]
  },
  {
   "cell_type": "code",
   "execution_count": null,
   "id": "d53748bf-0bcd-4ef6-b9ff-8553d9b8bfb8",
   "metadata": {},
   "outputs": [],
   "source": [
    "from pdf_utils import extract_text_from_pdf"
   ]
  },
  {
   "cell_type": "code",
   "execution_count": null,
   "id": "464928b8-7cc7-46ad-9352-f34acca048e2",
   "metadata": {},
   "outputs": [],
   "source": [
    "import fitz  # PyMuPDF\n",
    "\n",
    "def extract_text_from_pdf(uploaded_file):\n",
    "    doc = fitz.open(stream=uploaded_file.read(), filetype=\"pdf\")\n",
    "    text = \"\"\n",
    "    for page in doc:\n",
    "        text += page.get_text()\n",
    "    return text"
   ]
  },
  {
   "cell_type": "code",
   "execution_count": null,
   "id": "b47e3401-0c52-4080-a601-9698a887e403",
   "metadata": {},
   "outputs": [],
   "source": [
    "import sys\n",
    "sys.path.append('../app')\n",
    "\n",
    "from pdf_utils import extract_text_from_pdf\n"
   ]
  },
  {
   "cell_type": "code",
   "execution_count": 2,
   "id": "73efee01-8ae3-405b-912a-8e65e62ebdb8",
   "metadata": {},
   "outputs": [],
   "source": [
    "import fitz  # PyMuPDF\n",
    "\n",
    "def extract_text_from_pdf(uploaded_file):\n",
    "    doc = fitz.open(stream=uploaded_file.read(), filetype=\"pdf\")\n",
    "    text = \"\"\n",
    "    for page in doc:\n",
    "        text += page.get_text()\n",
    "    return text"
   ]
  },
  {
   "cell_type": "code",
   "execution_count": 3,
   "id": "662eb133-39ba-4ba0-9bd4-8716f9240b89",
   "metadata": {},
   "outputs": [
    {
     "ename": "ModuleNotFoundError",
     "evalue": "No module named 'pdf_utils'",
     "output_type": "error",
     "traceback": [
      "\u001b[31m---------------------------------------------------------------------------\u001b[39m",
      "\u001b[31mModuleNotFoundError\u001b[39m                       Traceback (most recent call last)",
      "\u001b[36mCell\u001b[39m\u001b[36m \u001b[39m\u001b[32mIn[3]\u001b[39m\u001b[32m, line 4\u001b[39m\n\u001b[32m      1\u001b[39m \u001b[38;5;28;01mimport\u001b[39;00m\u001b[38;5;250m \u001b[39m\u001b[34;01msys\u001b[39;00m\n\u001b[32m      2\u001b[39m sys.path.append(\u001b[33m'\u001b[39m\u001b[33m../app\u001b[39m\u001b[33m'\u001b[39m)\n\u001b[32m----> \u001b[39m\u001b[32m4\u001b[39m \u001b[38;5;28;01mfrom\u001b[39;00m\u001b[38;5;250m \u001b[39m\u001b[34;01mpdf_utils\u001b[39;00m\u001b[38;5;250m \u001b[39m\u001b[38;5;28;01mimport\u001b[39;00m extract_text_from_pdf\n\u001b[32m      6\u001b[39m \u001b[38;5;28mprint\u001b[39m(\u001b[33m\"\u001b[39m\u001b[33mFunction imported successfully!\u001b[39m\u001b[33m\"\u001b[39m)\n",
      "\u001b[31mModuleNotFoundError\u001b[39m: No module named 'pdf_utils'"
     ]
    }
   ],
   "source": [
    "import sys\n",
    "sys.path.append('../app')\n",
    "\n",
    "from pdf_utils import extract_text_from_pdf\n",
    "\n",
    "print(\"Function imported successfully!\")"
   ]
  },
  {
   "cell_type": "code",
   "execution_count": null,
   "id": "ed54f925-903d-4531-b556-ccf58354abb7",
   "metadata": {},
   "outputs": [],
   "source": []
  }
 ],
 "metadata": {
  "kernelspec": {
   "display_name": "Python 3 (ipykernel)",
   "language": "python",
   "name": "python3"
  },
  "language_info": {
   "codemirror_mode": {
    "name": "ipython",
    "version": 3
   },
   "file_extension": ".py",
   "mimetype": "text/x-python",
   "name": "python",
   "nbconvert_exporter": "python",
   "pygments_lexer": "ipython3",
   "version": "3.13.2"
  }
 },
 "nbformat": 4,
 "nbformat_minor": 5
}
